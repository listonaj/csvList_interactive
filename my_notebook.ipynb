{
 "cells": [
  {
   "cell_type": "markdown",
   "metadata": {},
   "source": [
    "read the csv file and display the 5 last elements. for the 5 first, enter the code <df.head()>"
   ]
  },
  {
   "cell_type": "code",
   "execution_count": 2,
   "metadata": {},
   "outputs": [
    {
     "data": {
      "text/html": [
       "<div>\n",
       "<style scoped>\n",
       "    .dataframe tbody tr th:only-of-type {\n",
       "        vertical-align: middle;\n",
       "    }\n",
       "\n",
       "    .dataframe tbody tr th {\n",
       "        vertical-align: top;\n",
       "    }\n",
       "\n",
       "    .dataframe thead th {\n",
       "        text-align: right;\n",
       "    }\n",
       "</style>\n",
       "<table border=\"1\" class=\"dataframe\">\n",
       "  <thead>\n",
       "    <tr style=\"text-align: right;\">\n",
       "      <th></th>\n",
       "      <th>name</th>\n",
       "      <th>age</th>\n",
       "      <th>streetNumber</th>\n",
       "      <th>streetName</th>\n",
       "      <th>city</th>\n",
       "      <th>state</th>\n",
       "      <th>zipCode</th>\n",
       "      <th>phoneNumber</th>\n",
       "    </tr>\n",
       "  </thead>\n",
       "  <tbody>\n",
       "    <tr>\n",
       "      <th>0</th>\n",
       "      <td>bob dylan</td>\n",
       "      <td>48</td>\n",
       "      <td>17315</td>\n",
       "      <td>56th street</td>\n",
       "      <td>Vancouver</td>\n",
       "      <td>Wa</td>\n",
       "      <td>98683</td>\n",
       "      <td>3609765645</td>\n",
       "    </tr>\n",
       "    <tr>\n",
       "      <th>1</th>\n",
       "      <td>fred Aster</td>\n",
       "      <td>112</td>\n",
       "      <td>rue des casinos</td>\n",
       "      <td>rue des casino</td>\n",
       "      <td>Las vegas</td>\n",
       "      <td>Nevada</td>\n",
       "      <td>77667</td>\n",
       "      <td>111111111</td>\n",
       "    </tr>\n",
       "  </tbody>\n",
       "</table>\n",
       "</div>"
      ],
      "text/plain": [
       "         name  age     streetNumber      streetName       city   state  \\\n",
       "0   bob dylan   48           17315      56th street  Vancouver      Wa   \n",
       "1  fred Aster  112  rue des casinos  rue des casino  Las vegas  Nevada   \n",
       "\n",
       "   zipCode  phoneNumber  \n",
       "0    98683   3609765645  \n",
       "1    77667    111111111  "
      ]
     },
     "execution_count": 2,
     "metadata": {},
     "output_type": "execute_result"
    }
   ],
   "source": [
    "import pandas as pd\n",
    "\n",
    "# Replace 'your_file.csv' with the actual CSV file path\n",
    "file_path = 'user_data.csv'\n",
    "\n",
    "# Read the CSV file into a DataFrame\n",
    "df = pd.read_csv(file_path)\n",
    "\n",
    "# Display the DataFrame\n",
    "\n",
    "df.tail()"
   ]
  },
  {
   "cell_type": "markdown",
   "metadata": {},
   "source": [
    "display the name of the columns"
   ]
  },
  {
   "cell_type": "code",
   "execution_count": 3,
   "metadata": {},
   "outputs": [
    {
     "name": "stdout",
     "output_type": "stream",
     "text": [
      "Column Names:\n",
      "name\n",
      "age\n",
      "streetNumber\n",
      "streetName\n",
      "city\n",
      "state\n",
      "zipCode\n",
      "phoneNumber\n"
     ]
    }
   ],
   "source": [
    "import pandas as pd\n",
    "\n",
    "# Replace 'your_file.csv' with the actual CSV file path\n",
    "file_path = 'user_data.csv'\n",
    "\n",
    "# Read the CSV file into a DataFrame\n",
    "df = pd.read_csv(file_path)\n",
    "\n",
    "# Get the column names\n",
    "column_names = df.columns\n",
    "\n",
    "print(\"Column Names:\")\n",
    "for column in column_names:\n",
    "    print(column)"
   ]
  },
  {
   "cell_type": "markdown",
   "metadata": {},
   "source": [
    "To import the data from the \"name\" and \"age\" columns of a CSV file and save it in a list, you can use the following code:"
   ]
  },
  {
   "cell_type": "code",
   "execution_count": 4,
   "metadata": {},
   "outputs": [
    {
     "name": "stdout",
     "output_type": "stream",
     "text": [
      "List of Name and Age:\n",
      "['bob dylan', 48]\n",
      "['fred Aster', 112]\n"
     ]
    }
   ],
   "source": [
    "import pandas as pd\n",
    "\n",
    "# Replace 'your_file.csv' with the actual CSV file path\n",
    "file_path = 'user_data.csv'\n",
    "\n",
    "# Read the CSV file into a DataFrame\n",
    "df = pd.read_csv(file_path)\n",
    "\n",
    "# Extract data from \"name\" and \"age\" columns and save in a list\n",
    "name_age_list = df[['name', 'age']].values.tolist()\n",
    "\n",
    "# Display the list\n",
    "print(\"List of Name and Age:\")\n",
    "for item in name_age_list:\n",
    "    print(item)\n"
   ]
  },
  {
   "cell_type": "markdown",
   "metadata": {},
   "source": [
    "To create a scatter plot that represents a linear graph with \"name\" on the x-axis and \"age\" on the y-axis using Python, you can use the matplotlib library. First, ensure that you have matplotlib installed by running the following command in your Jupyter Notebook: "
   ]
  },
  {
   "cell_type": "code",
   "execution_count": 7,
   "metadata": {},
   "outputs": [
    {
     "data": {
      "image/png": "[encoded data removed]",
      "text/plain": [
       "<Figure size 640x480 with 1 Axes>"
      ]
     },
     "metadata": {},
     "output_type": "display_data"
    }
   ],
   "source": [
    "import pandas as pd\n",
    "import matplotlib.pyplot as plt\n",
    "\n",
    "# Replace 'your_file.csv' with the actual CSV file path\n",
    "file_path = 'user_data.csv'\n",
    "\n",
    "# Read the CSV file into a DataFrame\n",
    "df = pd.read_csv(file_path)\n",
    "\n",
    "# Sort the data by the 'name' column for better visualization\n",
    "df.sort_values(by='name', inplace=True)\n",
    "\n",
    "# Create a line plot with 'name' on the y-axis and 'age' on the x-axis\n",
    "plt.plot(df['age'], df['name'], marker='o', linestyle='-')\n",
    "\n",
    "# Set labels for the axes\n",
    "plt.xlabel('Age')\n",
    "plt.ylabel('Name')\n",
    "\n",
    "# Rotate x-axis labels for readability\n",
    "plt.xticks(rotation=90)\n",
    "\n",
    "# Display the plot\n",
    "plt.show()"
   ]
  },
  {
   "cell_type": "markdown",
   "metadata": {},
   "source": [
    "To read a CSV file, extract data from the \"name\" and \"age\" columns, sort the data by the \"name\" column, and display the result in Python, you can use the following code. This code assumes you have the pandas library installed:"
   ]
  },
  {
   "cell_type": "code",
   "execution_count": 8,
   "metadata": {},
   "outputs": [
    {
     "name": "stdout",
     "output_type": "stream",
     "text": [
      "         name  age\n",
      "0   bob dylan   48\n",
      "1  fred Aster  112\n"
     ]
    }
   ],
   "source": [
    "import pandas as pd\n",
    "\n",
    "# Replace 'your_file.csv' with the actual CSV file path\n",
    "file_path = 'user_data.csv'\n",
    "\n",
    "# Read the CSV file into a DataFrame\n",
    "df = pd.read_csv(file_path)\n",
    "\n",
    "# Extract data from \"name\" and \"age\" columns\n",
    "name_age_data = df[['name', 'age']]\n",
    "\n",
    "# Sort the data by the \"name\" column\n",
    "sorted_data = name_age_data.sort_values(by='name')\n",
    "\n",
    "# Display the sorted data\n",
    "print(sorted_data)\n"
   ]
  },
  {
   "cell_type": "markdown",
   "metadata": {},
   "source": [
    "If you want to display the data in a more visually pleasing way, you can use the display function from the IPython.display module in a Jupyter Notebook:"
   ]
  },
  {
   "cell_type": "code",
   "execution_count": 9,
   "metadata": {},
   "outputs": [
    {
     "data": {
      "text/html": [
       "<div>\n",
       "<style scoped>\n",
       "    .dataframe tbody tr th:only-of-type {\n",
       "        vertical-align: middle;\n",
       "    }\n",
       "\n",
       "    .dataframe tbody tr th {\n",
       "        vertical-align: top;\n",
       "    }\n",
       "\n",
       "    .dataframe thead th {\n",
       "        text-align: right;\n",
       "    }\n",
       "</style>\n",
       "<table border=\"1\" class=\"dataframe\">\n",
       "  <thead>\n",
       "    <tr style=\"text-align: right;\">\n",
       "      <th></th>\n",
       "      <th>name</th>\n",
       "      <th>age</th>\n",
       "    </tr>\n",
       "  </thead>\n",
       "  <tbody>\n",
       "    <tr>\n",
       "      <th>0</th>\n",
       "      <td>bob dylan</td>\n",
       "      <td>48</td>\n",
       "    </tr>\n",
       "    <tr>\n",
       "      <th>1</th>\n",
       "      <td>fred Aster</td>\n",
       "      <td>112</td>\n",
       "    </tr>\n",
       "  </tbody>\n",
       "</table>\n",
       "</div>"
      ],
      "text/plain": [
       "         name  age\n",
       "0   bob dylan   48\n",
       "1  fred Aster  112"
      ]
     },
     "metadata": {},
     "output_type": "display_data"
    }
   ],
   "source": [
    "from IPython.display import display\n",
    "\n",
    "# Display the sorted data\n",
    "display(sorted_data)\n"
   ]
  },
  {
   "cell_type": "markdown",
   "metadata": {},
   "source": [
    "To sort the data by the \"age\" column, you can modify the code like this:"
   ]
  },
  {
   "cell_type": "code",
   "execution_count": 10,
   "metadata": {},
   "outputs": [
    {
     "name": "stdout",
     "output_type": "stream",
     "text": [
      "         name  age\n",
      "0   bob dylan   48\n",
      "1  fred Aster  112\n"
     ]
    }
   ],
   "source": [
    "import pandas as pd\n",
    "\n",
    "# Replace 'your_file.csv' with the actual CSV file path\n",
    "file_path = 'user_data.csv'\n",
    "\n",
    "# Read the CSV file into a DataFrame\n",
    "df = pd.read_csv(file_path)\n",
    "\n",
    "# Extract data from \"name\" and \"age\" columns\n",
    "name_age_data = df[['name', 'age']]\n",
    "\n",
    "# Sort the data by the \"age\" column\n",
    "sorted_data = name_age_data.sort_values(by='age')\n",
    "\n",
    "# Display the sorted data\n",
    "print(sorted_data)\n"
   ]
  }
 ],
 "metadata": {
  "kernelspec": {
   "display_name": "Python 3",
   "language": "python",
   "name": "python3"
  },
  "language_info": {
   "codemirror_mode": {
    "name": "ipython",
    "version": 3
   },
   "file_extension": ".py",
   "mimetype": "text/x-python",
   "name": "python",
   "nbconvert_exporter": "python",
   "pygments_lexer": "ipython3",
   "version": "3.11.5"
  },
  "orig_nbformat": 4
 },
 "nbformat": 4,
 "nbformat_minor": 2
}
