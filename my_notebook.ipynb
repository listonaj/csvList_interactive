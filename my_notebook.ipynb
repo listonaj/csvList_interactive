{
 "cells": [
  {
   "cell_type": "code",
   "execution_count": 1,
   "metadata": {},
   "outputs": [
    {
     "data": {
      "text/html": [
       "<div>\n",
       "<style scoped>\n",
       "    .dataframe tbody tr th:only-of-type {\n",
       "        vertical-align: middle;\n",
       "    }\n",
       "\n",
       "    .dataframe tbody tr th {\n",
       "        vertical-align: top;\n",
       "    }\n",
       "\n",
       "    .dataframe thead th {\n",
       "        text-align: right;\n",
       "    }\n",
       "</style>\n",
       "<table border=\"1\" class=\"dataframe\">\n",
       "  <thead>\n",
       "    <tr style=\"text-align: right;\">\n",
       "      <th></th>\n",
       "      <th>name</th>\n",
       "      <th>age</th>\n",
       "      <th>streetNumber</th>\n",
       "      <th>streetName</th>\n",
       "      <th>city</th>\n",
       "      <th>zipCode</th>\n",
       "      <th>phoneNumber</th>\n",
       "    </tr>\n",
       "  </thead>\n",
       "  <tbody>\n",
       "    <tr>\n",
       "      <th>0</th>\n",
       "      <td>jean-marc</td>\n",
       "      <td>48</td>\n",
       "      <td>17315</td>\n",
       "      <td>19thy street</td>\n",
       "      <td>vancouver</td>\n",
       "      <td>98683</td>\n",
       "      <td>3609149468</td>\n",
       "    </tr>\n",
       "    <tr>\n",
       "      <th>1</th>\n",
       "      <td>Deline Stephen</td>\n",
       "      <td>66</td>\n",
       "      <td>17315</td>\n",
       "      <td>19th street</td>\n",
       "      <td>Vancouver</td>\n",
       "      <td>98683</td>\n",
       "      <td>3609849073</td>\n",
       "    </tr>\n",
       "  </tbody>\n",
       "</table>\n",
       "</div>"
      ],
      "text/plain": [
       "             name  age  streetNumber    streetName       city  zipCode  \\\n",
       "0       jean-marc   48         17315  19thy street  vancouver    98683   \n",
       "1  Deline Stephen   66         17315  19th street   Vancouver    98683   \n",
       "\n",
       "   phoneNumber  \n",
       "0   3609149468  \n",
       "1   3609849073  "
      ]
     },
     "execution_count": 1,
     "metadata": {},
     "output_type": "execute_result"
    }
   ],
   "source": [
    "import pandas as pd\n",
    "\n",
    "# Replace 'your_file.csv' with the actual CSV file path\n",
    "file_path = 'user_data.csv'\n",
    "\n",
    "# Read the CSV file into a DataFrame\n",
    "df = pd.read_csv(file_path)\n",
    "\n",
    "# Display the DataFrame\n",
    "df.head()"
   ]
  }
 ],
 "metadata": {
  "kernelspec": {
   "display_name": "Python 3",
   "language": "python",
   "name": "python3"
  },
  "language_info": {
   "codemirror_mode": {
    "name": "ipython",
    "version": 3
   },
   "file_extension": ".py",
   "mimetype": "text/x-python",
   "name": "python",
   "nbconvert_exporter": "python",
   "pygments_lexer": "ipython3",
   "version": "3.10.12"
  },
  "orig_nbformat": 4
 },
 "nbformat": 4,
 "nbformat_minor": 2
}
